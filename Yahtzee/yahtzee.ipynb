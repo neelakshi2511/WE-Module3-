import random

def roll_dice(num_dice):
  """
  Simulates rolling a specified number of dice.

  Args:
      num_dice: The number of dice to roll (integer).

  Returns:
      A list containing the values rolled on each die (integers).
  """
  dice_roll = []
  for _ in range(num_dice):
    # Generate a random number between 1 and 6 (inclusive) for each die
    dice_roll.append(random.randint(1, 6))
  return dice_roll

def calculate_score(category, dice):
    """
    Calculates the score for a given category based on the dice roll.

    Args:
        category: The scoring category (string).
        dice: A list containing the values rolled on each die (integers).

    Returns:
        The score for the chosen category (integer).
    """
    # Check for categories based on specific die values
    if category in ("Ones", "Twos", "Threes", "Fours", "Fives", "Sixes"):
        return sum(die for die in dice if die == int(category[0]))
    # Check for Three of a Kind
    elif category == "Three of a Kind":
        for value in set(dice):
            if dice.count(value) >= 3:
                return sum(dice)
        return 0
    # Check for Four of a Kind
    elif category == "Four of a Kind":
        for value in set(dice):
            if dice.count(value) >= 4:
                return sum(dice)
        return 0
    # Check for Full House
    elif category == "Full House":
        has_three = False
        has_two = False
        for value in set(dice):
            if dice.count(value) == 3:
                has_three = True
            elif dice.count(value) == 2:
                has_two = True
        return 25 if has_three and has_two else 0
    # Check for Small Straight
    elif category == "Small Straight":
        return 30 if sorted(set(dice)) in ([1, 2, 3, 4], [2, 3, 4, 5]) else 0
    # Check for Large Straight
    elif category == "Large Straight":
        return 40 if sorted(set(dice)) in ([1, 2, 3, 4, 5], [2, 3, 4, 5, 6]) else 0
    # Check for Yahtzee
    elif category == "Yahtzee":
        return 50 if all(dice.count(val) == 1 for val in set(dice)) else 0
    # Check for Chance
    elif category == "Chance":
        return sum(dice)
    else:
        raise ValueError(f"Invalid category: {category}")
def is_valid_category(category, used_categories):
  """
  Checks if the chosen scoring category is valid for the current round.

  Args:
      category: The scoring category chosen by the player (string).
      used_categories: A list of categories already scored in this round (strings).

  Returns:
      True if the category is valid, False otherwise.
  """
  # Check if category is already used
  return category not in used_categories
def display_dice(dice):
  """
  Displays the rolled dice in a user-friendly format.

  Args:
      dice: A list containing the values rolled on each die (integers).
  """
  print(f"Dice: {dice}")
def display_scorecard(scorecard):
  """
  Displays the player's scorecard.

  Args:
      scorecard: A dictionary containing scores for each category (strings as keys, integers as values).
  """
  # Category names and their corresponding positions for formatting
  categories = [
      "Ones", "Twos", "Threes", "Fours", "Fives", "Sixes",
      "Three of a Kind", "Four of a Kind", "Full House", "Small Straight",
      "Large Straight", "Yahtzee", "Chance", "Total Score"
  ]
  positions = [2, 2, 2, 2, 2, 2, 18, 18, 18, 18, 18, 18, 18, 18]

  # Print the header row
  print("-" * 40)
  print("| Category | Score |")
  print("-" * 40)

  # Print each category and score with alignment
  for i, category in enumerate(categories):
    score = scorecard.get(category, 0)  # Get score or 0 if not scored yet
    print(f"| {category:<{positions[i]}} | {score:>3} |")

  # Print the total score line
  print("-" * 40)
def test_roll_dice():
    print("Testing roll_dice function:")
    print("Rolling 5 dice:")
    print(roll_dice(5))
    print("Rolling 3 dice:")
    print(roll_dice(3))
    print()

def test_calculate_score():
    print("Testing calculate_score function:")
    dice = [1, 2, 3, 4, 5]
    print("Calculating score for Three of a Kind:", calculate_score("Three of a Kind", dice))
    print("Calculating score for Full House:", calculate_score("Full House", dice))
    print("Calculating score for Small Straight:", calculate_score("Small Straight", dice))
    print()

def test_is_valid_category():
    print("Testing is_valid_category function:")
    used_categories = ["Ones", "Twos", "Threes"]
    print("Is 'Ones' valid?", is_valid_category("Ones", used_categories))
    print("Is 'Fours' valid?", is_valid_category("Fours", used_categories))
    print()
